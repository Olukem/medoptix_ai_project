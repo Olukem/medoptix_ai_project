{
 "cells": [
  {
   "cell_type": "markdown",
   "id": "2131d09f",
   "metadata": {},
   "source": [
    "### A. Upload CSV to S3 (using boto3)"
   ]
  },
  {
   "cell_type": "code",
   "execution_count": null,
   "id": "be14ca9a",
   "metadata": {},
   "outputs": [],
   "source": [
    "# install dependencies or put them in a requirements.txt file\n",
    "# !pip install pandas\n",
    "#!pip install boto3\n"
   ]
  },
  {
   "cell_type": "code",
   "execution_count": 29,
   "id": "b5c61ced",
   "metadata": {},
   "outputs": [],
   "source": [
    "# Import dependencies\n",
    "import boto3\n",
    "import os"
   ]
  },
  {
   "cell_type": "markdown",
   "id": "ec53759a",
   "metadata": {},
   "source": [
    "### LOAD DATA INTO AWS"
   ]
  },
  {
   "cell_type": "code",
   "execution_count": null,
   "id": "7d9780c4",
   "metadata": {},
   "outputs": [
    {
     "name": "stdout",
     "output_type": "stream",
     "text": [
      "Uploaded clinics.csv successfully\n",
      "Uploaded dropout_flags.csv successfully\n",
      "Uploaded feedback.csv successfully\n",
      "Uploaded interventions.csv successfully\n",
      "Uploaded patients.csv successfully\n",
      "Uploaded sessions.csv successfully\n"
     ]
    }
   ],
   "source": [
    "# Setup\n",
    "bucket_name = \"med-etl-bucket\"\n",
    "folder_data = \"./medoptix_data\"\n",
    "target_folder = \"/medoptix/raw/\"\n",
    "\n",
    "# AWS credentials assumed to be in ~/.aws/credentials or env vars\n",
    "s3 = boto3.client('s3')\n",
    "\n",
    "# Upload all CSVs in folder with ACL: bucket-owner-full-control\n",
    "try:\n",
    "    for filename in os.listdir(folder_data):\n",
    "        if filename.endswith(\".csv\"):\n",
    "            filepath = os.path.join(folder_data, filename)\n",
    "            s3.upload_file(\n",
    "                Filename=filepath,\n",
    "                Bucket=bucket_name,\n",
    "                Key= target_folder + filename\n",
    "            )\n",
    "            print(f\"Uploaded {filename} successfully\")\n",
    "except Exception as e:\n",
    "    print(f\"❌ Upload failed: {e}\")"
   ]
  },
  {
   "cell_type": "markdown",
   "id": "78a8cca1",
   "metadata": {},
   "source": [
    "### B. LOAD DATA FROM AWS S3 --------- POSTGRESQL"
   ]
  },
  {
   "cell_type": "code",
   "execution_count": 31,
   "id": "cc41d24b",
   "metadata": {},
   "outputs": [
    {
     "name": "stdout",
     "output_type": "stream",
     "text": [
      "Downloaded patients.csv successfully\n",
      "Downloaded sessions.csv successfully\n"
     ]
    }
   ],
   "source": [
    "\n",
    "\n",
    "s3 = boto3.client('s3')\n",
    "\n",
    "bucket = \"med-etl-bucket\"\n",
    "prefix = \"/medoptix/raw/\"\n",
    "\n",
    "files  = [\"patients.csv\", \"sessions.csv\"]\n",
    "\n",
    "for file in files:\n",
    "    s3.download_file(bucket, prefix + file, file)\n",
    "    print(f\"Downloaded {file} successfully\")"
   ]
  },
  {
   "cell_type": "markdown",
   "id": "da578ee7",
   "metadata": {},
   "source": [
    "### C. Loading Data from AWS S3 To Posgres Database"
   ]
  },
  {
   "cell_type": "code",
   "execution_count": 3,
   "id": "c5ec4b8e",
   "metadata": {},
   "outputs": [],
   "source": [
    "import os\n",
    "import pandas as pd\n",
    "from sqlalchemy import create_engine"
   ]
  },
  {
   "cell_type": "code",
   "execution_count": null,
   "id": "2a0edcd2",
   "metadata": {},
   "outputs": [],
   "source": [
    "# # Upload all CSVs in folder with ACL: bucket-owner-full-control\n",
    "\n",
    "def get_db_engine():\n",
    "    db_url = (\n",
    "        f\"postgresql://{\"avnadmin\"}:{\"AVNS_WUAxDaCB98_BJRKU3C7\"}@\"\n",
    "        f\"{\"myproject-db-ooluwakemmie-a56d.j.aivencloud.com\"}:{\"17947\"}/{\"defaultdb\"}?\"\n",
    "    )\n",
    "\n",
    "    return create_engine(db_url)"
   ]
  },
  {
   "cell_type": "code",
   "execution_count": null,
   "id": "90edcdba",
   "metadata": {},
   "outputs": [
    {
     "name": "stdout",
     "output_type": "stream",
     "text": [
      "Data uploaded successfully to the database.\n"
     ]
    }
   ],
   "source": [
    "def upload_data():\n",
    "    patients = pd.read_csv(\"C:/Users/ooluw/Downloads/MedOptix/med_env/medoptix_data/patients.csv\")\n",
    "    sessions = pd.read_csv(\"C:/Users/ooluw/Downloads/MedOptix/med_env/medoptix_data/sessions.csv\")\n",
    "    feedback = pd.read_csv(\"C:/Users/ooluw/Downloads/MedOptix/med_env/medoptix_data/feedback.csv\")\n",
    "    interventions = pd.read_csv(\"C:/Users/ooluw/Downloads/MedOptix/med_env/medoptix_data/interventions.csv\")\n",
    "    clinics = pd.read_csv(\"C:/Users/ooluw/Downloads/MedOptix/med_env/medoptix_data/clinics.csv\")    \n",
    "    dropout_flags = pd.read_csv(\"C:/Users/ooluw/Downloads/MedOptix/med_env/medoptix_data/dropout_flags.csv\")\n",
    "    \n",
    "    # Step 2: Create database engine\n",
    "    engine = get_db_engine()\n",
    "\n",
    "    # Step 3: Upload in referential order with error handling\n",
    "    with engine.begin() as connection:  # Automatically handles transactions\n",
    " \n",
    "        # Upload patients table\n",
    "        patients.to_sql(\n",
    "            \"patients\",\n",
    "            connection, \n",
    "            if_exists='append', \n",
    "            index=False,\n",
    "            chunksize=1000,\n",
    "            method='multi'\n",
    "        )\n",
    "\n",
    "        # Upload sessions table\n",
    "        sessions.to_sql(\n",
    "            \"sessions\",\n",
    "            connection, \n",
    "            if_exists='append', \n",
    "            index=False,\n",
    "            chunksize=1000,\n",
    "            method='multi'\n",
    "        )\n",
    "\n",
    "        # Upload feedback table\n",
    "        feedback.to_sql(\n",
    "            \"feedback\",\n",
    "            connection,\n",
    "            if_exists='append',\n",
    "            index=False,    \n",
    "            chunksize=1000,\n",
    "            method='multi'  \n",
    "        )\n",
    "\n",
    "        # Upload interventions tables\n",
    "        interventions.to_sql(\n",
    "            \"interventions\",\n",
    "            connection,\n",
    "            if_exists='append',\n",
    "            index=False,\n",
    "            chunksize=1000,\n",
    "            method='multi'\n",
    "        )\n",
    "\n",
    "        # Upload clinics table\n",
    "        clinics.to_sql(\n",
    "            \"clinics\",\n",
    "            connection,\n",
    "            if_exists='append',\n",
    "            index=False,\n",
    "            chunksize=1000,\n",
    "            method='multi'\n",
    "        )\n",
    "\n",
    "        # Upload dropout flags table\n",
    "        dropout_flags.to_sql(\n",
    "            \"dropout_flags\",\n",
    "            connection,\n",
    "            if_exists='append',\n",
    "            index=False,\n",
    "            chunksize=1000,\n",
    "            method='multi'\n",
    "        )\n",
    "\n",
    "    print(\"Data uploaded successfully to the database.\")\n",
    "\n",
    "\n",
    "upload_data()"
   ]
  },
  {
   "cell_type": "code",
   "execution_count": null,
   "id": "4be2d8d0",
   "metadata": {},
   "outputs": [],
   "source": []
  }
 ],
 "metadata": {
  "kernelspec": {
   "display_name": "base",
   "language": "python",
   "name": "python3"
  },
  "language_info": {
   "codemirror_mode": {
    "name": "ipython",
    "version": 3
   },
   "file_extension": ".py",
   "mimetype": "text/x-python",
   "name": "python",
   "nbconvert_exporter": "python",
   "pygments_lexer": "ipython3",
   "version": "3.12.4"
  }
 },
 "nbformat": 4,
 "nbformat_minor": 5
}
